{
 "cells": [
  {
   "cell_type": "code",
   "execution_count": 1,
   "id": "41ec6e77-0328-449d-bb9b-a2137273572f",
   "metadata": {},
   "outputs": [],
   "source": [
    "import pandas as pd\n",
    "import numpy as np\n",
    "import matplotlib.pyplot as plt\n",
    "%matplotlib inline\n",
    "import seaborn as sns\n",
    "\n",
    "import datetime\n",
    "pd.options.display.max_colwidth = 200\n",
    "\n",
    "import warnings\n",
    "warnings.simplefilter(\"ignore\")"
   ]
  },
  {
   "cell_type": "code",
   "execution_count": 2,
   "id": "86ddca49-dc3d-439b-aa6e-9ad307637da1",
   "metadata": {},
   "outputs": [],
   "source": [
    "#Import the data\n",
    "\n",
    "depresssion_df = pd.read_csv('../Data/depression_category.csv')\n",
    "#anxiety_df = pd.read_csv('../Data/Twiter_anxiety.csv')\n",
    "exercise_df = pd.read_csv('../Data/exercise_category.csv')\n",
    "happy_df = pd.read_csv('../Data/happy.csv')\n",
    "suicide_df = pd.read_csv('../Data/suicidewatch.csv')"
   ]
  },
  {
   "cell_type": "code",
   "execution_count": 3,
   "id": "4ad2e09d-844d-4640-8667-79f7f21fdb2b",
   "metadata": {},
   "outputs": [
    {
     "data": {
      "text/html": [
       "<div>\n",
       "<style scoped>\n",
       "    .dataframe tbody tr th:only-of-type {\n",
       "        vertical-align: middle;\n",
       "    }\n",
       "\n",
       "    .dataframe tbody tr th {\n",
       "        vertical-align: top;\n",
       "    }\n",
       "\n",
       "    .dataframe thead th {\n",
       "        text-align: right;\n",
       "    }\n",
       "</style>\n",
       "<table border=\"1\" class=\"dataframe\">\n",
       "  <thead>\n",
       "    <tr style=\"text-align: right;\">\n",
       "      <th></th>\n",
       "      <th>subreddit</th>\n",
       "      <th>title</th>\n",
       "      <th>self_text</th>\n",
       "      <th>author</th>\n",
       "      <th>domain</th>\n",
       "      <th>timecreated</th>\n",
       "    </tr>\n",
       "  </thead>\n",
       "  <tbody>\n",
       "    <tr>\n",
       "      <th>0</th>\n",
       "      <td>depression</td>\n",
       "      <td>Are depression meds worth it</td>\n",
       "      <td>Does anyone here take meds for their depression? If so is it worth it?\\r\\n\\r\\nI’ve seen some pretty nasty statistics/side effects saying people taking depression meds can have increased thoughts o...</td>\n",
       "      <td>Odd-Creme-8819</td>\n",
       "      <td>self.depression</td>\n",
       "      <td>1650064188</td>\n",
       "    </tr>\n",
       "    <tr>\n",
       "      <th>1</th>\n",
       "      <td>depression</td>\n",
       "      <td>I am pissing my life away and feel powerless to change it</td>\n",
       "      <td>I am almost 25, no hope of a girlfriend or wife, no social life, suck at my job, just pissing away time. I will probably be in the same boat at 30. If you don't fix yourself by 20 it's over</td>\n",
       "      <td>NihilisticDaydreamin</td>\n",
       "      <td>self.depression</td>\n",
       "      <td>1650064158</td>\n",
       "    </tr>\n",
       "    <tr>\n",
       "      <th>2</th>\n",
       "      <td>depression</td>\n",
       "      <td>I can't do this anymore.</td>\n",
       "      <td>I can't do this anymore. I can't do this anymore. I can't do this anymore. I can't do this anymore. I can't do this anymore. I can't do this anymore. I can't do this anymore. I can't do this anymo...</td>\n",
       "      <td>0fuckthislife0</td>\n",
       "      <td>self.depression</td>\n",
       "      <td>1650063958</td>\n",
       "    </tr>\n",
       "    <tr>\n",
       "      <th>3</th>\n",
       "      <td>depression</td>\n",
       "      <td>I think about hanging myself everyday before bed</td>\n",
       "      <td>I’m depressed but I have no intention of killing myself. I have problems but I am very grateful of my situation compared to my extended family. I write this as I am in bed and I just wonder why do...</td>\n",
       "      <td>albataineh</td>\n",
       "      <td>self.depression</td>\n",
       "      <td>1650063857</td>\n",
       "    </tr>\n",
       "    <tr>\n",
       "      <th>4</th>\n",
       "      <td>depression</td>\n",
       "      <td>I need to vent yall</td>\n",
       "      <td>Ight so heres the thing as far back as i can remember ive always been somewhat depressed. And im not the type who uses this term lightly so when i mean depressed i dont mean sad. My mom always sai...</td>\n",
       "      <td>Basic-Toe-9979</td>\n",
       "      <td>self.depression</td>\n",
       "      <td>1650063745</td>\n",
       "    </tr>\n",
       "  </tbody>\n",
       "</table>\n",
       "</div>"
      ],
      "text/plain": [
       "    subreddit                                                      title  \\\n",
       "0  depression                               Are depression meds worth it   \n",
       "1  depression  I am pissing my life away and feel powerless to change it   \n",
       "2  depression                                   I can't do this anymore.   \n",
       "3  depression           I think about hanging myself everyday before bed   \n",
       "4  depression                                        I need to vent yall   \n",
       "\n",
       "                                                                                                                                                                                                 self_text  \\\n",
       "0  Does anyone here take meds for their depression? If so is it worth it?\\r\\n\\r\\nI’ve seen some pretty nasty statistics/side effects saying people taking depression meds can have increased thoughts o...   \n",
       "1            I am almost 25, no hope of a girlfriend or wife, no social life, suck at my job, just pissing away time. I will probably be in the same boat at 30. If you don't fix yourself by 20 it's over   \n",
       "2  I can't do this anymore. I can't do this anymore. I can't do this anymore. I can't do this anymore. I can't do this anymore. I can't do this anymore. I can't do this anymore. I can't do this anymo...   \n",
       "3  I’m depressed but I have no intention of killing myself. I have problems but I am very grateful of my situation compared to my extended family. I write this as I am in bed and I just wonder why do...   \n",
       "4  Ight so heres the thing as far back as i can remember ive always been somewhat depressed. And im not the type who uses this term lightly so when i mean depressed i dont mean sad. My mom always sai...   \n",
       "\n",
       "                 author           domain  timecreated  \n",
       "0        Odd-Creme-8819  self.depression   1650064188  \n",
       "1  NihilisticDaydreamin  self.depression   1650064158  \n",
       "2        0fuckthislife0  self.depression   1650063958  \n",
       "3            albataineh  self.depression   1650063857  \n",
       "4        Basic-Toe-9979  self.depression   1650063745  "
      ]
     },
     "execution_count": 3,
     "metadata": {},
     "output_type": "execute_result"
    }
   ],
   "source": [
    "#Check Each Data top 5 rows\n",
    "\n",
    "depresssion_df.head()"
   ]
  },
  {
   "cell_type": "code",
   "execution_count": 4,
   "id": "00bfc2f5-b004-4133-9d15-80bab88e1f6f",
   "metadata": {},
   "outputs": [
    {
     "data": {
      "text/html": [
       "<div>\n",
       "<style scoped>\n",
       "    .dataframe tbody tr th:only-of-type {\n",
       "        vertical-align: middle;\n",
       "    }\n",
       "\n",
       "    .dataframe tbody tr th {\n",
       "        vertical-align: top;\n",
       "    }\n",
       "\n",
       "    .dataframe thead th {\n",
       "        text-align: right;\n",
       "    }\n",
       "</style>\n",
       "<table border=\"1\" class=\"dataframe\">\n",
       "  <thead>\n",
       "    <tr style=\"text-align: right;\">\n",
       "      <th></th>\n",
       "      <th>subreddit</th>\n",
       "      <th>title</th>\n",
       "      <th>self_text</th>\n",
       "      <th>author</th>\n",
       "      <th>domain</th>\n",
       "      <th>timecreated</th>\n",
       "    </tr>\n",
       "  </thead>\n",
       "  <tbody>\n",
       "    <tr>\n",
       "      <th>0</th>\n",
       "      <td>Exercise</td>\n",
       "      <td>☀️☀️☀️</td>\n",
       "      <td>NaN</td>\n",
       "      <td>empyreandreams</td>\n",
       "      <td>i.redd.it</td>\n",
       "      <td>1649015190</td>\n",
       "    </tr>\n",
       "    <tr>\n",
       "      <th>1</th>\n",
       "      <td>Exercise</td>\n",
       "      <td>🏃🏃🏃</td>\n",
       "      <td>NaN</td>\n",
       "      <td>empyreandreams</td>\n",
       "      <td>i.redd.it</td>\n",
       "      <td>1648832140</td>\n",
       "    </tr>\n",
       "    <tr>\n",
       "      <th>2</th>\n",
       "      <td>Exercise</td>\n",
       "      <td>💪🙏</td>\n",
       "      <td>NaN</td>\n",
       "      <td>empyreandreams</td>\n",
       "      <td>i.redd.it</td>\n",
       "      <td>1647628891</td>\n",
       "    </tr>\n",
       "    <tr>\n",
       "      <th>3</th>\n",
       "      <td>Exercise</td>\n",
       "      <td>No Time to Lift? Designing Time-Efficient Training Programs for Strength and Hypertrophy: A Narrative Review</td>\n",
       "      <td>NaN</td>\n",
       "      <td>empyreandreams</td>\n",
       "      <td>ncbi.nlm.nih.gov</td>\n",
       "      <td>1645033351</td>\n",
       "    </tr>\n",
       "    <tr>\n",
       "      <th>4</th>\n",
       "      <td>Exercise</td>\n",
       "      <td>Scientists have found that switching from a life of inactivity to one involving 20 minutes of running, cycling or other ‘moderate to vigorous’ exercise a day, as late as 70, reduces the risk of he...</td>\n",
       "      <td>NaN</td>\n",
       "      <td>empyreandreams</td>\n",
       "      <td>eurekalert.org</td>\n",
       "      <td>1644953041</td>\n",
       "    </tr>\n",
       "  </tbody>\n",
       "</table>\n",
       "</div>"
      ],
      "text/plain": [
       "  subreddit  \\\n",
       "0  Exercise   \n",
       "1  Exercise   \n",
       "2  Exercise   \n",
       "3  Exercise   \n",
       "4  Exercise   \n",
       "\n",
       "                                                                                                                                                                                                     title  \\\n",
       "0                                                                                                                                                                                                   ☀️☀️☀️   \n",
       "1                                                                                                                                                                                                      🏃🏃🏃   \n",
       "2                                                                                                                                                                                                       💪🙏   \n",
       "3                                                                                             No Time to Lift? Designing Time-Efficient Training Programs for Strength and Hypertrophy: A Narrative Review   \n",
       "4  Scientists have found that switching from a life of inactivity to one involving 20 minutes of running, cycling or other ‘moderate to vigorous’ exercise a day, as late as 70, reduces the risk of he...   \n",
       "\n",
       "  self_text          author            domain  timecreated  \n",
       "0       NaN  empyreandreams         i.redd.it   1649015190  \n",
       "1       NaN  empyreandreams         i.redd.it   1648832140  \n",
       "2       NaN  empyreandreams         i.redd.it   1647628891  \n",
       "3       NaN  empyreandreams  ncbi.nlm.nih.gov   1645033351  \n",
       "4       NaN  empyreandreams    eurekalert.org   1644953041  "
      ]
     },
     "execution_count": 4,
     "metadata": {},
     "output_type": "execute_result"
    }
   ],
   "source": [
    "exercise_df.head()"
   ]
  },
  {
   "cell_type": "code",
   "execution_count": 5,
   "id": "6103bc77-ab0c-4fd1-ae05-edcb33860eb6",
   "metadata": {},
   "outputs": [
    {
     "data": {
      "text/plain": [
       "0"
      ]
     },
     "execution_count": 5,
     "metadata": {},
     "output_type": "execute_result"
    }
   ],
   "source": [
    "depresssion_df.isnull().sum().sum()"
   ]
  },
  {
   "cell_type": "code",
   "execution_count": 6,
   "id": "a305b34d-6893-45aa-a51d-c897402223cb",
   "metadata": {},
   "outputs": [
    {
     "data": {
      "text/plain": [
       "subreddit         0\n",
       "title             0\n",
       "self_text      4951\n",
       "author            0\n",
       "domain            0\n",
       "timecreated       0\n",
       "dtype: int64"
      ]
     },
     "execution_count": 6,
     "metadata": {},
     "output_type": "execute_result"
    }
   ],
   "source": [
    "exercise_df.isnull().sum()"
   ]
  },
  {
   "cell_type": "code",
   "execution_count": 7,
   "id": "6d951f15-dafb-442a-8619-ced5d25f4dd5",
   "metadata": {},
   "outputs": [
    {
     "data": {
      "text/plain": [
       "457"
      ]
     },
     "execution_count": 7,
     "metadata": {},
     "output_type": "execute_result"
    }
   ],
   "source": [
    "depresssion_df[depresssion_df.duplicated(subset='title') == True].shape[0]"
   ]
  },
  {
   "cell_type": "code",
   "execution_count": 8,
   "id": "c9632384-8e0d-423a-a4af-1d25c49e1f8d",
   "metadata": {},
   "outputs": [
    {
     "data": {
      "text/plain": [
       "337"
      ]
     },
     "execution_count": 8,
     "metadata": {},
     "output_type": "execute_result"
    }
   ],
   "source": [
    "exercise_df[exercise_df.duplicated(subset='title') == True].shape[0]"
   ]
  },
  {
   "cell_type": "code",
   "execution_count": 9,
   "id": "bf2a7cff-c0e5-49c7-990b-ea463c6dd390",
   "metadata": {},
   "outputs": [
    {
     "data": {
      "text/html": [
       "<div>\n",
       "<style scoped>\n",
       "    .dataframe tbody tr th:only-of-type {\n",
       "        vertical-align: middle;\n",
       "    }\n",
       "\n",
       "    .dataframe tbody tr th {\n",
       "        vertical-align: top;\n",
       "    }\n",
       "\n",
       "    .dataframe thead th {\n",
       "        text-align: right;\n",
       "    }\n",
       "</style>\n",
       "<table border=\"1\" class=\"dataframe\">\n",
       "  <thead>\n",
       "    <tr style=\"text-align: right;\">\n",
       "      <th></th>\n",
       "      <th>subreddit</th>\n",
       "      <th>title</th>\n",
       "      <th>selftext</th>\n",
       "      <th>author</th>\n",
       "      <th>domain</th>\n",
       "      <th>created_utc</th>\n",
       "    </tr>\n",
       "  </thead>\n",
       "  <tbody>\n",
       "    <tr>\n",
       "      <th>0</th>\n",
       "      <td>happy</td>\n",
       "      <td>Happy April Fools Day</td>\n",
       "      <td>NaN</td>\n",
       "      <td>pottersheadforever</td>\n",
       "      <td>instagram.com</td>\n",
       "      <td>1554088425</td>\n",
       "    </tr>\n",
       "    <tr>\n",
       "      <th>1</th>\n",
       "      <td>happy</td>\n",
       "      <td>Me and my girlfriend went parasailing and it was really fun. First long term relationship I've ever had</td>\n",
       "      <td>NaN</td>\n",
       "      <td>gryffindorwannabe</td>\n",
       "      <td>i.redd.it</td>\n",
       "      <td>1554086198</td>\n",
       "    </tr>\n",
       "    <tr>\n",
       "      <th>2</th>\n",
       "      <td>happy</td>\n",
       "      <td>I was in a really dark place for many years. I wrote this while tracking my moods in January 2018. I came across this entry while going through my old phone and I can happily say this is exactly w...</td>\n",
       "      <td>NaN</td>\n",
       "      <td>LunaRose108</td>\n",
       "      <td>i.redd.it</td>\n",
       "      <td>1554082821</td>\n",
       "    </tr>\n",
       "    <tr>\n",
       "      <th>3</th>\n",
       "      <td>happy</td>\n",
       "      <td>My fiancée and our dog always nap together on weekends. I love my family.</td>\n",
       "      <td>NaN</td>\n",
       "      <td>c_zim</td>\n",
       "      <td>i.imgur.com</td>\n",
       "      <td>1554079986</td>\n",
       "    </tr>\n",
       "    <tr>\n",
       "      <th>4</th>\n",
       "      <td>happy</td>\n",
       "      <td>Six years ago I wanted to die, I’m now living my actual dream life.</td>\n",
       "      <td>I’m married, own a house and a car from this decade. We have a puppy. We’re happy. \\nI’m getting back into my hobbies. Like...what even?!?!\\n\\nI have bad days still. absolutely. But nothing like I...</td>\n",
       "      <td>brndnw4lf</td>\n",
       "      <td>self.happy</td>\n",
       "      <td>1554079475</td>\n",
       "    </tr>\n",
       "  </tbody>\n",
       "</table>\n",
       "</div>"
      ],
      "text/plain": [
       "  subreddit  \\\n",
       "0     happy   \n",
       "1     happy   \n",
       "2     happy   \n",
       "3     happy   \n",
       "4     happy   \n",
       "\n",
       "                                                                                                                                                                                                     title  \\\n",
       "0                                                                                                                                                                                    Happy April Fools Day   \n",
       "1                                                                                                  Me and my girlfriend went parasailing and it was really fun. First long term relationship I've ever had   \n",
       "2  I was in a really dark place for many years. I wrote this while tracking my moods in January 2018. I came across this entry while going through my old phone and I can happily say this is exactly w...   \n",
       "3                                                                                                                                My fiancée and our dog always nap together on weekends. I love my family.   \n",
       "4                                                                                                                                      Six years ago I wanted to die, I’m now living my actual dream life.   \n",
       "\n",
       "                                                                                                                                                                                                  selftext  \\\n",
       "0                                                                                                                                                                                                      NaN   \n",
       "1                                                                                                                                                                                                      NaN   \n",
       "2                                                                                                                                                                                                      NaN   \n",
       "3                                                                                                                                                                                                      NaN   \n",
       "4  I’m married, own a house and a car from this decade. We have a puppy. We’re happy. \\nI’m getting back into my hobbies. Like...what even?!?!\\n\\nI have bad days still. absolutely. But nothing like I...   \n",
       "\n",
       "               author         domain  created_utc  \n",
       "0  pottersheadforever  instagram.com   1554088425  \n",
       "1   gryffindorwannabe      i.redd.it   1554086198  \n",
       "2         LunaRose108      i.redd.it   1554082821  \n",
       "3               c_zim    i.imgur.com   1554079986  \n",
       "4           brndnw4lf     self.happy   1554079475  "
      ]
     },
     "execution_count": 9,
     "metadata": {},
     "output_type": "execute_result"
    }
   ],
   "source": [
    "happy_df.head()"
   ]
  },
  {
   "cell_type": "code",
   "execution_count": 10,
   "id": "28c92e41-01c8-4acf-ba72-23772c724737",
   "metadata": {},
   "outputs": [],
   "source": [
    "happy_df.rename(columns={'selftext': 'self_text'}, inplace = True)"
   ]
  },
  {
   "cell_type": "code",
   "execution_count": 11,
   "id": "2cf3e8bf-8177-429a-aeeb-9f6830913ca1",
   "metadata": {},
   "outputs": [],
   "source": [
    "suicide_df.rename(columns={'selftext': 'self_text'}, inplace = True)"
   ]
  },
  {
   "cell_type": "code",
   "execution_count": 12,
   "id": "3f86d5ca-0924-4144-8513-103e650aba5b",
   "metadata": {},
   "outputs": [],
   "source": [
    "#Create a fundtion to fix the nan values, concat title with self_text, clean the text and title, drop_duplicates\n",
    "\n",
    "#Create a funtion to clean the dataset \n",
    "def clean_df(df):\n",
    "    \n",
    "    #Fill the self text nan values with blank text\n",
    "    df['self_text'].fillna(' ', inplace = True)\n",
    "    \n",
    "    #Rename removed and deleted post with blank text\n",
    "    df['self_text'] = df['self_text'].str.replace('removed', ' ').str.replace('deleted', ' ')\n",
    "    \n",
    "    #Drop Duplcates\n",
    "    df.drop_duplicates(subset = 'title', keep = 'last', inplace = True)\n",
    "    \n",
    "    # Transform all text to lowercase\n",
    "    df['title'] = df['title'].str.lower()\n",
    "    df['self_text'] = df['self_text'].str.lower()\n",
    "    \n",
    "    # Remove punctation\n",
    "    df['title'] = df['title'].str.replace('[^\\w\\s]',' ')\n",
    "    df['self_text'] = df['self_text'].str.replace('[^\\w\\s]',' ')\n",
    "\n",
    "    # Remove numbers \n",
    "    df['title'] = df['title'].str.replace('[^A-Za-z]',' ')\n",
    "    df['self_text'] = df['self_text'].str.replace('[^A-Za-z]',' ')\n",
    "\n",
    "    # Make sure any double-spaces are single \n",
    "    df['title'] = df['title'].str.replace('  ',' ')\n",
    "    df['self_text'] = df['self_text'].str.replace('  ',' ')\n",
    "    \n",
    "    return df"
   ]
  },
  {
   "cell_type": "code",
   "execution_count": 13,
   "id": "09a10717-5be0-4feb-a747-7c1249e485e5",
   "metadata": {},
   "outputs": [
    {
     "name": "stdout",
     "output_type": "stream",
     "text": [
      "Original shape was: (9993, 6)\n"
     ]
    }
   ],
   "source": [
    "print(f'Original shape was: {depresssion_df.shape}')"
   ]
  },
  {
   "cell_type": "code",
   "execution_count": 14,
   "id": "d8ae35fe-b0ac-463d-8479-5ded54045d3f",
   "metadata": {},
   "outputs": [
    {
     "data": {
      "text/plain": [
       "(9536, 6)"
      ]
     },
     "execution_count": 14,
     "metadata": {},
     "output_type": "execute_result"
    }
   ],
   "source": [
    "depresssion_df = clean_df(depresssion_df)\n",
    "depresssion_df.shape"
   ]
  },
  {
   "cell_type": "code",
   "execution_count": 15,
   "id": "74f433d9-210a-4262-848b-d4080409ccd5",
   "metadata": {},
   "outputs": [
    {
     "data": {
      "text/plain": [
       "(9659, 6)"
      ]
     },
     "execution_count": 15,
     "metadata": {},
     "output_type": "execute_result"
    }
   ],
   "source": [
    "exercise_df = clean_df(exercise_df)\n",
    "exercise_df.shape"
   ]
  },
  {
   "cell_type": "code",
   "execution_count": 16,
   "id": "0cb5157f-d9af-4323-b871-13b534ec9e08",
   "metadata": {},
   "outputs": [
    {
     "data": {
      "text/plain": [
       "(15000, 6)"
      ]
     },
     "execution_count": 16,
     "metadata": {},
     "output_type": "execute_result"
    }
   ],
   "source": [
    "happy_df.shape"
   ]
  },
  {
   "cell_type": "code",
   "execution_count": 17,
   "id": "6c14ab50-e54e-4907-bded-18d5188dec96",
   "metadata": {},
   "outputs": [
    {
     "data": {
      "text/plain": [
       "(14621, 6)"
      ]
     },
     "execution_count": 17,
     "metadata": {},
     "output_type": "execute_result"
    }
   ],
   "source": [
    "happy_df = clean_df(happy_df)\n",
    "happy_df.shape"
   ]
  },
  {
   "cell_type": "code",
   "execution_count": null,
   "id": "b70823dc-225f-48e2-b17a-787fdb0110c0",
   "metadata": {},
   "outputs": [],
   "source": []
  },
  {
   "cell_type": "code",
   "execution_count": null,
   "id": "7ad1988d-4872-4b17-9719-b0302037cc42",
   "metadata": {},
   "outputs": [],
   "source": []
  },
  {
   "cell_type": "code",
   "execution_count": null,
   "id": "175d537b-5b27-49ff-ae49-aab6f8be0391",
   "metadata": {},
   "outputs": [],
   "source": []
  }
 ],
 "metadata": {
  "kernelspec": {
   "display_name": "Python 3",
   "language": "python",
   "name": "python3"
  },
  "language_info": {
   "codemirror_mode": {
    "name": "ipython",
    "version": 3
   },
   "file_extension": ".py",
   "mimetype": "text/x-python",
   "name": "python",
   "nbconvert_exporter": "python",
   "pygments_lexer": "ipython3",
   "version": "3.8.8"
  }
 },
 "nbformat": 4,
 "nbformat_minor": 5
}
